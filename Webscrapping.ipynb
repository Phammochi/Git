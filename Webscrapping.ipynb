{
  "nbformat": 4,
  "nbformat_minor": 0,
  "metadata": {
    "colab": {
      "provenance": [],
      "authorship_tag": "ABX9TyMVBjDOeZN1vnKUAYOf14Rj",
      "include_colab_link": true
    },
    "kernelspec": {
      "name": "python3",
      "display_name": "Python 3"
    },
    "language_info": {
      "name": "python"
    }
  },
  "cells": [
    {
      "cell_type": "markdown",
      "metadata": {
        "id": "view-in-github",
        "colab_type": "text"
      },
      "source": [
        "<a href=\"https://colab.research.google.com/github/Phammochi/Git/blob/main/Webscrapping.ipynb\" target=\"_parent\"><img src=\"https://colab.research.google.com/assets/colab-badge.svg\" alt=\"Open In Colab\"/></a>"
      ]
    },
    {
      "cell_type": "code",
      "execution_count": 1,
      "metadata": {
        "colab": {
          "base_uri": "https://localhost:8080/"
        },
        "id": "g0LXLoYdbBuZ",
        "outputId": "533f5209-85a4-4694-e027-3e5f695f3a70"
      },
      "outputs": [
        {
          "output_type": "stream",
          "name": "stdout",
          "text": [
            "Title: A Light in the ...\n",
            "Price: £51.77\n",
            "\n",
            "Title: Tipping the Velvet\n",
            "Price: £53.74\n",
            "\n",
            "Title: Soumission\n",
            "Price: £50.10\n",
            "\n",
            "Title: Sharp Objects\n",
            "Price: £47.82\n",
            "\n",
            "Title: Sapiens: A Brief History ...\n",
            "Price: £54.23\n",
            "\n",
            "Title: The Requiem Red\n",
            "Price: £22.65\n",
            "\n",
            "Title: The Dirty Little Secrets ...\n",
            "Price: £33.34\n",
            "\n",
            "Title: The Coming Woman: A ...\n",
            "Price: £17.93\n",
            "\n",
            "Title: The Boys in the ...\n",
            "Price: £22.60\n",
            "\n",
            "Title: The Black Maria\n",
            "Price: £52.15\n",
            "\n",
            "Title: Starving Hearts (Triangular Trade ...\n",
            "Price: £13.99\n",
            "\n",
            "Title: Shakespeare's Sonnets\n",
            "Price: £20.66\n",
            "\n",
            "Title: Set Me Free\n",
            "Price: £17.46\n",
            "\n",
            "Title: Scott Pilgrim's Precious Little ...\n",
            "Price: £52.29\n",
            "\n",
            "Title: Rip it Up and ...\n",
            "Price: £35.02\n",
            "\n",
            "Title: Our Band Could Be ...\n",
            "Price: £57.25\n",
            "\n",
            "Title: Olio\n",
            "Price: £23.88\n",
            "\n",
            "Title: Mesaerion: The Best Science ...\n",
            "Price: £37.59\n",
            "\n",
            "Title: Libertarianism for Beginners\n",
            "Price: £51.33\n",
            "\n",
            "Title: It's Only the Himalayas\n",
            "Price: £45.17\n",
            "\n"
          ]
        }
      ],
      "source": [
        "import requests\n",
        "from bs4 import BeautifulSoup\n",
        "\n",
        "# Send a GET request to the website\n",
        "url = 'https://books.toscrape.com/'\n",
        "response = requests.get(url)\n",
        "\n",
        "# Parse the HTML content using BeautifulSoup\n",
        "soup = BeautifulSoup(response.content, 'html.parser')\n",
        "\n",
        "# Extract book details\n",
        "books = []\n",
        "\n",
        "book_elements = soup.find_all('article', class_='product_pod')\n",
        "\n",
        "for book_elem in book_elements:\n",
        "    title_elem = book_elem.find('h3')\n",
        "    price_elem = book_elem.find('p', class_='price_color')\n",
        "\n",
        "    if title_elem and price_elem:\n",
        "        title = title_elem.text.strip()\n",
        "        price = price_elem.text.strip()\n",
        "        books.append((title, price))\n",
        "\n",
        "# Print the book details\n",
        "for title, price in books:\n",
        "    print(f\"Title: {title}\")\n",
        "    print(f\"Price: {price}\")\n",
        "    print()\n"
      ]
    }
  ]
}